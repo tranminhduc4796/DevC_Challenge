{
  "nbformat": 4,
  "nbformat_minor": 0,
  "metadata": {
    "colab": {
      "name": "DAwP_Assignment_1.ipynb",
      "provenance": [],
      "include_colab_link": true
    },
    "kernelspec": {
      "name": "python3",
      "display_name": "Python 3"
    }
  },
  "cells": [
    {
      "cell_type": "markdown",
      "metadata": {
        "id": "view-in-github",
        "colab_type": "text"
      },
      "source": [
        "<a href=\"https://colab.research.google.com/github/tranminhduc4796/DevC_Challenge/blob/master/DAwP_Assignment_1.ipynb\" target=\"_parent\"><img src=\"https://colab.research.google.com/assets/colab-badge.svg\" alt=\"Open In Colab\"/></a>"
      ]
    },
    {
      "cell_type": "markdown",
      "metadata": {
        "id": "jjZG7BNlbWtO",
        "colab_type": "text"
      },
      "source": [
        "![](https://i.imgur.com/0AUxkXt.png)"
      ]
    },
    {
      "cell_type": "markdown",
      "metadata": {
        "id": "jbpQzyjqbflM",
        "colab_type": "text"
      },
      "source": [
        "# Assignment 1 - The Hacker Rank\n",
        "\n",
        "HackerRank is a place where programmers from all over the world come together to solve problems in a wide range of Computer Science domains.\n",
        "\n",
        "As you solve more challenges, you earn points and move up the HackerRank Leaderboard.\n",
        "\n",
        "Looking for a job at an awesome company? You can get hired by solving [challenges](https://www.hackerrank.com/jobs/search)!\n",
        "\n",
        "It's cool. Let's establish your knowledge and fight for glory!\n",
        "\n",
        "But before that let's make it clear that.."
      ]
    },
    {
      "cell_type": "markdown",
      "metadata": {
        "id": "-ndmD4naciAN",
        "colab_type": "text"
      },
      "source": [
        "## Note-taking is IMPORTANT\n",
        "\n",
        "Blog: [Why is note-taking important](https://nickblackbourn.com/blog/why-is-note-taking-important/)\n",
        "\n",
        "Note taking isn’t just important for college students, it’s a valuable life skill.\n",
        "\n",
        "Effective note taking helps you to remember information and aids your understanding of that information. \n",
        "\n",
        "**Notes boost your understanding**\n",
        "\n",
        "By making notes, you force yourself to construct a conceptual mental representation of the ideas you are grappling with. It is this process that helps you comprehend the subject matter you are working with.\n",
        "\n",
        "**Notes are a repository of your thinking**\n",
        "\n",
        "When you need to recall something that you came across a while ago, you can go over the main ideas by looking over your notes. This is why good, comprehensive notes are so useful; they are a catalogue of the best ideas you’ve encountered, and what you thought about them.\n",
        "\n",
        "etc.\n",
        "\n",
        "\n",
        "\n",
        "\n",
        "\n",
        "\n",
        "\n"
      ]
    },
    {
      "cell_type": "markdown",
      "metadata": {
        "id": "IGvKPsdVfX-F",
        "colab_type": "text"
      },
      "source": [
        "## Requirements\n",
        "\n",
        "Pick 10 challenges on HackerRank about SQL and 5 about Python in **easy** level:\n",
        "\n",
        "[HackerRank - Domain SQL](https://www.hackerrank.com/domains/sql?filters%5Bdifficulty%5D%5B%5D=easy&filters%5Bsubdomains%5D%5B%5D=select)\n",
        "\n",
        "[HackerRank - Domain Python](https://www.hackerrank.com/domains/python?filters%5Bdifficulty%5D%5B%5D=easy)\n",
        "\n",
        "For each challenge:\n",
        "\n",
        "* Create a markdown cell first that describes the challenge.\n",
        "* Solve the challenge on HackerRank and copy your solution to a code cell below\n",
        "* (Optional) A short description about how you came up with the solution would be awesome."
      ]
    },
    {
      "cell_type": "markdown",
      "metadata": {
        "id": "higGK1Y5iAea",
        "colab_type": "text"
      },
      "source": [
        "## Example"
      ]
    },
    {
      "cell_type": "markdown",
      "metadata": {
        "id": "D2yU2FYDi4tj",
        "colab_type": "text"
      },
      "source": [
        "### SQL"
      ]
    },
    {
      "cell_type": "markdown",
      "metadata": {
        "id": "gu4DDH7Ki77C",
        "colab_type": "text"
      },
      "source": [
        "\n",
        "#### Problem 1\n",
        "\n",
        "Query all columns for all American cities in **CITY** with populations larger than 100000. The CountryCode for America is USA.\n",
        "\n",
        "**Input Format**\n",
        "\n",
        "The **CITY** table is described as follows:\n",
        "\n",
        "| Field | Type |\n",
        "|:----:|:---:|\n",
        "| ID | NUMBER |\n",
        "| NAME | VARCHAR2(17) |\n",
        "| COUNTRYCODE | VARCHAR2(3) |\n",
        "| DISTRICT | VARCHAR2(20) |\n",
        "| POPULATION | NUMBER |"
      ]
    },
    {
      "cell_type": "code",
      "metadata": {
        "id": "hhAwMjyhbT1b",
        "colab_type": "code",
        "colab": {}
      },
      "source": [
        "# Solution\n",
        "# SELECT * from city WHERE population>100000 AND countrycode='USA';"
      ],
      "execution_count": 0,
      "outputs": []
    },
    {
      "cell_type": "markdown",
      "metadata": {
        "id": "0AxyfiJijJ7T",
        "colab_type": "text"
      },
      "source": [
        "### Python"
      ]
    },
    {
      "cell_type": "markdown",
      "metadata": {
        "id": "PEW8LsB5jLqf",
        "colab_type": "text"
      },
      "source": [
        "#### Problem 1\n",
        "\n",
        "**Task** \n",
        "Given an integer, , perform the following conditional actions:\n",
        "\n",
        "* If `n` is odd, print *Weird*\n",
        "* If `n` is even and in the inclusive range of 2 to 5, print *Not Weird*\n",
        "* If `n` is even and in the inclusive range of 6 to 20, print *Weird*\n",
        "* If `n` is even and greater than 20, print *Not Weird*\n",
        "\n",
        "**Input Format**\n",
        "\n",
        "A single line containing a positive integer, .\n",
        "\n",
        "**Output Format**\n",
        "\n",
        "Print Weird if the number is weird; otherwise, print Not Weird."
      ]
    },
    {
      "cell_type": "code",
      "metadata": {
        "id": "JBOxgw0zjLC2",
        "colab_type": "code",
        "colab": {}
      },
      "source": [
        "n = int(input())\n",
        "\n",
        "if n % 2 == 1:\n",
        "    print('Weird')\n",
        "else:\n",
        "    if (n >= 2) and (n <= 5):\n",
        "        print('Not Weird')\n",
        "    elif (n >= 6) and (n <= 20):\n",
        "        print('Weird')\n",
        "    else:\n",
        "        print('Not Weird')"
      ],
      "execution_count": 0,
      "outputs": []
    },
    {
      "cell_type": "markdown",
      "metadata": {
        "id": "a-Q3VE7YkA9A",
        "colab_type": "text"
      },
      "source": [
        "## Your turn\n",
        "\n",
        "Good luck and have fun!"
      ]
    },
    {
      "cell_type": "markdown",
      "metadata": {
        "id": "4oMtc88dp0O-",
        "colab_type": "text"
      },
      "source": [
        "# SQL\n",
        "\n"
      ]
    },
    {
      "cell_type": "markdown",
      "metadata": {
        "id": "ou4jz_2TqIsg",
        "colab_type": "text"
      },
      "source": [
        "### Problem 1:\n",
        "Query all columns for all American cities in CITY with populations larger than 100000. The CountryCode for America is USA.\n"
      ]
    },
    {
      "cell_type": "code",
      "metadata": {
        "id": "fjcVk6_7qK_f",
        "colab_type": "code",
        "colab": {}
      },
      "source": [
        "# Select * FROM city WHERE countrycode = \"USA\" AND population > 100000"
      ],
      "execution_count": 0,
      "outputs": []
    },
    {
      "cell_type": "markdown",
      "metadata": {
        "id": "L8JcHyaIqvKW",
        "colab_type": "text"
      },
      "source": [
        "## Problem 2:\n",
        "Query the names of all American cities in CITY with populations larger than 120000. The CountryCode for America is USA."
      ]
    },
    {
      "cell_type": "code",
      "metadata": {
        "id": "9w1KMOK0q52D",
        "colab_type": "code",
        "colab": {}
      },
      "source": [
        "# SELECT name FROM city WHERE countrycode = \"USA\" and population > 120000"
      ],
      "execution_count": 0,
      "outputs": []
    },
    {
      "cell_type": "markdown",
      "metadata": {
        "id": "JKKQzw3jrDHR",
        "colab_type": "text"
      },
      "source": [
        "## Problem 3:\n",
        "Query all columns (attributes) for every row in the CITY table."
      ]
    },
    {
      "cell_type": "code",
      "metadata": {
        "id": "lD1S9fg2rEAa",
        "colab_type": "code",
        "colab": {}
      },
      "source": [
        "# SELECT * FROM city"
      ],
      "execution_count": 0,
      "outputs": []
    },
    {
      "cell_type": "markdown",
      "metadata": {
        "id": "f6Crc7-wrEfl",
        "colab_type": "text"
      },
      "source": [
        "## Problem 4:\n",
        "Query all columns for a city in CITY with the ID 1661."
      ]
    },
    {
      "cell_type": "code",
      "metadata": {
        "id": "3KGKWYjwrE3w",
        "colab_type": "code",
        "colab": {}
      },
      "source": [
        "# SELECT * FROM city where ID = 1661;"
      ],
      "execution_count": 0,
      "outputs": []
    },
    {
      "cell_type": "markdown",
      "metadata": {
        "id": "n-NnxQLCrFMF",
        "colab_type": "text"
      },
      "source": [
        "## Problem 5:\n",
        "Query all attributes of every Japanese city in the CITY table. The COUNTRYCODE for Japan is JPN.\n",
        "\n"
      ]
    },
    {
      "cell_type": "code",
      "metadata": {
        "id": "2nvVk7A0rFfs",
        "colab_type": "code",
        "colab": {}
      },
      "source": [
        "# SELECT * FROM city where countrycode=\"JPN\";"
      ],
      "execution_count": 0,
      "outputs": []
    },
    {
      "cell_type": "markdown",
      "metadata": {
        "id": "spkmGmqqrFy5",
        "colab_type": "text"
      },
      "source": [
        "## Problem 6:\n",
        "Query the following two values from the STATION table:\n",
        "\n",
        "The sum of all values in LAT_N rounded to a scale of  decimal places.\n",
        "The sum of all values in LONG_W rounded to a scale of  decimal places.\n"
      ]
    },
    {
      "cell_type": "code",
      "metadata": {
        "id": "DMjfQsxFrGGr",
        "colab_type": "code",
        "colab": {}
      },
      "source": [
        "# https://www.hackerrank.com/rest/contests/master/challenges/weather-observation-station-2/hackers/tranminhduc4796/download_solution"
      ],
      "execution_count": 0,
      "outputs": []
    },
    {
      "cell_type": "markdown",
      "metadata": {
        "id": "YABPRXfSrGed",
        "colab_type": "text"
      },
      "source": [
        "##Problem 7:\n",
        "Query a list of CITY and STATE from the STATION table.\n",
        "\n"
      ]
    },
    {
      "cell_type": "code",
      "metadata": {
        "id": "YE5c1TY2rGyq",
        "colab_type": "code",
        "colab": {}
      },
      "source": [
        "# https://www.hackerrank.com/rest/contests/master/challenges/weather-observation-station-1/hackers/tranminhduc4796/download_solution"
      ],
      "execution_count": 0,
      "outputs": []
    },
    {
      "cell_type": "markdown",
      "metadata": {
        "id": "z_FnzXi0wlMd",
        "colab_type": "text"
      },
      "source": [
        "##Problem 8:\n",
        "Query a list of CITY names from STATION with even ID numbers only. You may print the results in any order, but must exclude duplicates from your answer."
      ]
    },
    {
      "cell_type": "code",
      "metadata": {
        "id": "0dm7qgSXwltN",
        "colab_type": "code",
        "colab": {}
      },
      "source": [
        "# https://www.hackerrank.com/rest/contests/master/challenges/weather-observation-station-3/hackers/tranminhduc4796/download_solution"
      ],
      "execution_count": 0,
      "outputs": []
    },
    {
      "cell_type": "markdown",
      "metadata": {
        "id": "K-HYYIPWwmLQ",
        "colab_type": "text"
      },
      "source": [
        "## Problem 9:\n",
        "Let  be the number of CITY entries in STATION, and let  be the number of distinct CITY names in STATION; query the value of  from STATION. In other words, find the difference between the total number of CITY entries in the table and the number of distinct CITY entries in the table."
      ]
    },
    {
      "cell_type": "code",
      "metadata": {
        "id": "sEVF9iQGwmh0",
        "colab_type": "code",
        "colab": {}
      },
      "source": [
        "# https://www.hackerrank.com/rest/contests/master/challenges/weather-observation-station-4/hackers/tranminhduc4796/download_solution"
      ],
      "execution_count": 0,
      "outputs": []
    },
    {
      "cell_type": "markdown",
      "metadata": {
        "id": "TCIaPW5uwm5r",
        "colab_type": "text"
      },
      "source": [
        "## Problem 10:\n",
        "Query the two cities in STATION with the shortest and longest CITY names, as well as their respective lengths (i.e.: number of characters in the name). If there is more than one smallest or largest city, choose the one that comes first when ordered alphabetically.\n",
        "\n",
        "\n"
      ]
    },
    {
      "cell_type": "code",
      "metadata": {
        "id": "H-7P8f2VwnRk",
        "colab_type": "code",
        "colab": {}
      },
      "source": [
        "# https://www.hackerrank.com/rest/contests/master/challenges/weather-observation-station-5/hackers/tranminhduc4796/download_solution"
      ],
      "execution_count": 0,
      "outputs": []
    },
    {
      "cell_type": "markdown",
      "metadata": {
        "id": "VuaRtfJhxMKN",
        "colab_type": "text"
      },
      "source": [
        "# Python"
      ]
    },
    {
      "cell_type": "markdown",
      "metadata": {
        "id": "5jPs1NU9xRmK",
        "colab_type": "text"
      },
      "source": [
        "## Problem 1:\n",
        "Complete the function solveMeFirst to compute the sum of two integers.\n",
        "\n",
        "Function prototype:\n",
        "\n",
        "int solveMeFirst(int a, int b);\n",
        "\n",
        "where,\n",
        "\n",
        "a is the first integer input.\n",
        "b is the second integer input\n",
        "Return values\n",
        "\n",
        "sum of the above two integers\n",
        "Sample Input\n",
        "```\n",
        "a = 2\n",
        "b = 3\n",
        "```\n",
        "Sample Output\n",
        "```\n",
        "5\n",
        "```"
      ]
    },
    {
      "cell_type": "code",
      "metadata": {
        "id": "pt19XV_1xR6m",
        "colab_type": "code",
        "colab": {}
      },
      "source": [
        "# https://www.hackerrank.com/rest/contests/master/challenges/solve-me-first/hackers/tranminhduc4796/download_solution"
      ],
      "execution_count": 0,
      "outputs": []
    },
    {
      "cell_type": "markdown",
      "metadata": {
        "id": "z5nmhFSfxSTA",
        "colab_type": "text"
      },
      "source": [
        "## Problem 2:\n",
        "Given an array of integers, find the sum of its elements.\n",
        "\n",
        "For example, if the array , , so return .\n",
        "\n",
        "Function Description\n",
        "\n",
        "Complete the simpleArraySum function in the editor below. It must return the sum of the array elements as an integer.\n",
        "\n",
        "simpleArraySum has the following parameter(s):\n",
        "\n",
        "ar: an array of integers\n",
        "Input Format\n",
        "\n",
        "The first line contains an integer, , denoting the size of the array.\n",
        "The second line contains  space-separated integers representing the array's elements.\n",
        "\n",
        "Constraints\n",
        "\n",
        "\n",
        "Output Format\n",
        "\n",
        "Print the sum of the array's elements as a single integer.\n",
        "\n",
        "Sample Input\n",
        "```\n",
        "6\n",
        "1 2 3 4 10 11\n",
        "```\n",
        "Sample Output\n",
        "```\n",
        "31\n",
        "```"
      ]
    },
    {
      "cell_type": "code",
      "metadata": {
        "id": "bn-nOExyxSq8",
        "colab_type": "code",
        "colab": {}
      },
      "source": [
        "# https://www.hackerrank.com/rest/contests/master/challenges/simple-array-sum/hackers/tranminhduc4796/download_solution"
      ],
      "execution_count": 0,
      "outputs": []
    },
    {
      "cell_type": "markdown",
      "metadata": {
        "id": "_uQhUH_lxS9b",
        "colab_type": "text"
      },
      "source": [
        "## Problem 3:\n",
        "https://www.hackerrank.com/challenges/compare-the-triplets/problem"
      ]
    },
    {
      "cell_type": "code",
      "metadata": {
        "id": "5YvV4-1qxTPH",
        "colab_type": "code",
        "colab": {}
      },
      "source": [
        "# https://www.hackerrank.com/rest/contests/master/challenges/compare-the-triplets/hackers/tranminhduc4796/download_solution"
      ],
      "execution_count": 0,
      "outputs": []
    },
    {
      "cell_type": "markdown",
      "metadata": {
        "id": "ifznI-CCxThw",
        "colab_type": "text"
      },
      "source": [
        "## Problem 4:\n",
        "https://www.hackerrank.com/challenges/a-very-big-sum/problem"
      ]
    },
    {
      "cell_type": "code",
      "metadata": {
        "id": "vqB1tciKxTxh",
        "colab_type": "code",
        "colab": {}
      },
      "source": [
        "# https://www.hackerrank.com/rest/contests/master/challenges/a-very-big-sum/hackers/tranminhduc4796/download_solution"
      ],
      "execution_count": 0,
      "outputs": []
    },
    {
      "cell_type": "markdown",
      "metadata": {
        "id": "7xXLMEn8xUzc",
        "colab_type": "text"
      },
      "source": [
        "## Problem 5:\n",
        "https://www.hackerrank.com/challenges/diagonal-difference/problem"
      ]
    },
    {
      "cell_type": "code",
      "metadata": {
        "id": "iggJ8rxGxVGW",
        "colab_type": "code",
        "colab": {}
      },
      "source": [
        "# https://www.hackerrank.com/rest/contests/master/challenges/diagonal-difference/hackers/tranminhduc4796/download_solution"
      ],
      "execution_count": 0,
      "outputs": []
    },
    {
      "cell_type": "code",
      "metadata": {
        "id": "pCpvXcTl0b9f",
        "colab_type": "code",
        "colab": {}
      },
      "source": [
        ""
      ],
      "execution_count": 0,
      "outputs": []
    }
  ]
}